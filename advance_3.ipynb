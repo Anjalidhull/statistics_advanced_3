{
 "cells": [
  {
   "cell_type": "code",
   "execution_count": null,
   "id": "2d6b56cf-1059-43ef-9d7e-9e85d020a0b3",
   "metadata": {},
   "outputs": [],
   "source": [
    "Q1: What is Estimation Statistics? Explain point estimate and interval estimate.\n"
   ]
  },
  {
   "cell_type": "code",
   "execution_count": null,
   "id": "0124e5b1-b659-4490-bd11-ee62d5847a02",
   "metadata": {},
   "outputs": [],
   "source": [
    "Estimate is an observed numerical value used to estimate unkown population parameter.\n",
    "Point Estimate:single numerical value used to estimate the unkown population parameter.\n",
    "Interval Estimate:It is a range of value that is used to estimate the unkown population parameter."
   ]
  },
  {
   "cell_type": "code",
   "execution_count": null,
   "id": "4b0a0af2-798a-4d91-97e7-830c0505b7e1",
   "metadata": {},
   "outputs": [],
   "source": [
    "Q2. Write a Python function to estimate the population mean using a sample mean and standard\n",
    "deviation."
   ]
  },
  {
   "cell_type": "code",
   "execution_count": 2,
   "id": "edb7c70e-0c6a-4d9a-8665-84a1e3d0992e",
   "metadata": {},
   "outputs": [
    {
     "name": "stdout",
     "output_type": "stream",
     "text": [
      "Estimated population mean: 65.16254378699625\n"
     ]
    }
   ],
   "source": [
    "def estimate_population_mean(sample_mean,sample_std,sample_size):\n",
    "    import math\n",
    "    \n",
    "    Standard_error=sample_std/(math.sqrt(sample_size))\n",
    "    population_mean=sample_mean*(sample_size/(sample_size-1)) + Standard_error\n",
    "    \n",
    "    return population_mean\n",
    "\n",
    "sample_mean=50\n",
    "sample_std=100\n",
    "sample_size=50\n",
    "\n",
    "population_mean_estimate = estimate_population_mean(sample_mean, sample_std, sample_size)\n",
    "print(f\"Estimated population mean: {population_mean_estimate}\")"
   ]
  },
  {
   "cell_type": "code",
   "execution_count": null,
   "id": "6ea5f688-ce1f-4946-8382-4623887eb207",
   "metadata": {},
   "outputs": [],
   "source": [
    "Q3: What is Hypothesis testing? Why is it used? State the importance of Hypothesis testing.\n"
   ]
  },
  {
   "cell_type": "code",
   "execution_count": null,
   "id": "20a5d5d3-081b-4360-a4a1-997965531b5f",
   "metadata": {},
   "outputs": [],
   "source": [
    "It is an assumption based based on indequent that require further testing , after testing hypothesis is cheak wether it is true or false.\n",
    "Hypothesis testing is generly used to test null hypothesis is Accept or reject.\n",
    "\n",
    "\n",
    "Importance:\n",
    "    In an organization, on daily basis managers make various types of decisions that affect the efficiency, productivity as well as growth\n",
    "    of their companies. Many organizations generally collect data from various sources in order to monitor their growth and progress as well \n",
    "    as to be competitive than other companies and make better rational decisions.\n",
    "\n",
    "The data that is collected cannot provide a clear picture of decision making and is needed to be critically analyzed in order to interpret it \n",
    "in the right way . The data that is collected can be analyzed with the help of hypothesis testing."
   ]
  },
  {
   "cell_type": "code",
   "execution_count": null,
   "id": "fcbf4cab-aa33-4074-af61-0dfa11c2adb7",
   "metadata": {},
   "outputs": [],
   "source": [
    "Q4. Create a hypothesis that states whether the average weight of male college students is greater than\n",
    "the average weight of female college students."
   ]
  },
  {
   "cell_type": "code",
   "execution_count": null,
   "id": "a06c7e03-51cb-405b-a2ae-e862ad461133",
   "metadata": {},
   "outputs": [],
   "source": []
  },
  {
   "cell_type": "code",
   "execution_count": null,
   "id": "ac3c945a-a4a9-4f57-b73c-28100a908a3f",
   "metadata": {},
   "outputs": [],
   "source": [
    "Q5. Write a Python script to conduct a hypothesis test on the difference between two population means,\n",
    "given a sample from each population."
   ]
  },
  {
   "cell_type": "code",
   "execution_count": 16,
   "id": "35de7959-1c24-40e7-8155-a2e74ed01fb3",
   "metadata": {},
   "outputs": [
    {
     "name": "stdout",
     "output_type": "stream",
     "text": [
      "Reject the null hypothesis: There is a significant difference in means.\n",
      "T-Statistic: 6.349\n",
      "P-Value: 5.558052535103997e-06\n"
     ]
    }
   ],
   "source": [
    "import numpy as np\n",
    "from scipy import stats\n",
    "\n",
    "def two_sample_t_test(sample1,sample2,alpha=0.05):\n",
    "    mean1=np.mean(sample1)\n",
    "    mean2=np.mean(sample2)\n",
    "    n1=len(sample1)\n",
    "    n2=len(sample2)\n",
    "    std1=np.std(sample1)\n",
    "    std2=np.std(sample2)\n",
    "    \n",
    "    # degree of fredom  \n",
    "    df= n1+n2-2\n",
    "    \n",
    "    # calculate t-statistics\n",
    "    pooled_std = np.sqrt(((n1 - 1) * std1 ** 2 + (n2 - 1) * std2 ** 2) / (n1 + n2 - 2))\n",
    "    t_statistic = (mean1 - mean2) / (pooled_std * np.sqrt(1 / n1 + 1 / n2))\n",
    "\n",
    "    # calculate P value \n",
    "    p_value = 2 * (1 - stats.t.cdf(abs(t_statistic), df))\n",
    "    \n",
    "     # Compare p-value with alpha (significance level)\n",
    "    if p_value < alpha:\n",
    "        print(\"Reject the null hypothesis: There is a significant difference in means.\")\n",
    "    else:\n",
    "        print(\"Fail to reject the null hypothesis: There is no significant difference in means.\")\n",
    "\n",
    "    return t_statistic, p_value\n",
    "\n",
    "if __name__ == \"__main__\":\n",
    "    # Sample data from two populations (male and female weights)\n",
    "    male_weights = [72, 78, 80, 75, 79, 82, 85, 77, 74, 76]\n",
    "    female_weights = [65, 70, 68, 72, 69, 73, 71, 66, 68, 67]\n",
    "\n",
    "    # Perform the two-sample t-test\n",
    "    t_statistic, p_value = two_sample_t_test(male_weights, female_weights)\n",
    "\n",
    "    # Output the results\n",
    "    print(\"T-Statistic:\", round(t_statistic,3))\n",
    "    print(\"P-Value:\", p_value)"
   ]
  },
  {
   "cell_type": "code",
   "execution_count": null,
   "id": "73aafaec-9082-4d76-9100-3b845733dceb",
   "metadata": {},
   "outputs": [],
   "source": [
    "Q6: What is a null and alternative hypothesis? Give some examples.\n",
    "\n"
   ]
  },
  {
   "cell_type": "code",
   "execution_count": 3,
   "id": "df11db44-3604-41d7-8430-473735e2c088",
   "metadata": {},
   "outputs": [],
   "source": [
    "null hypothesis  Ho:\n",
    "    it is an hypotesis which required to be tested. An invetigator try to reject this hypothesis.\n",
    "    \n",
    "Alternative  hypothesis H1 :\n",
    "    It is opposite of null hypotesis based on our openion.\n",
    "    \n",
    "example:\n",
    "    Accoring to  a survey sallery of data engenier is 1,25,000  .we investigate it is true or false.\n",
    "    Ho: sallery = 1,25,000\n",
    "    H1: sallery != 1,25,000\n",
    "    \n",
    "    "
   ]
  },
  {
   "cell_type": "code",
   "execution_count": null,
   "id": "80109886-899e-43a9-b1a0-a5ae0c5b3cc7",
   "metadata": {},
   "outputs": [],
   "source": [
    "Q7: Write down the steps involved in hypothesis testing.\n"
   ]
  },
  {
   "cell_type": "code",
   "execution_count": null,
   "id": "2006ed1f-a2d5-42ca-b765-b8ead77d8902",
   "metadata": {},
   "outputs": [],
   "source": [
    "define null hypothesis \n",
    "define alternative hypothesis \n",
    "choose significance level \n",
    "Calculate the Test Statistic:\n",
    "determine critical region  \n",
    "Compute the P-Value\n",
    "Make decsion\n",
    "Interpret the Results\n",
    "Draw Conclusions"
   ]
  },
  {
   "cell_type": "code",
   "execution_count": null,
   "id": "7541e51e-e84c-41d5-8b80-10ff5d124340",
   "metadata": {},
   "outputs": [],
   "source": [
    "Q8. Define p-value and explain its significance in hypothesis testing.\n"
   ]
  },
  {
   "cell_type": "code",
   "execution_count": null,
   "id": "6149dc5a-ce6b-4962-8389-8486c99d703e",
   "metadata": {},
   "outputs": [],
   "source": [
    "A  p-value is a number that calculate from a statistics test that describe how likly you are to have  found a\n",
    "particular set of observation if null hypothesis were true . P value use in hypothesis testing used to cheak accept or reject null hypothesis.\n",
    "\n",
    "if  P-value < alpha(significant value) :\n",
    "    we reject null hypothesis \n",
    "else :   \n",
    "        we failed to  reject null hypothesis \n",
    "        \n"
   ]
  },
  {
   "cell_type": "code",
   "execution_count": null,
   "id": "4e3fd769-06aa-4bba-8e33-5f62440b4fec",
   "metadata": {},
   "outputs": [],
   "source": [
    "Q9. Generate a Student's t-distribution plot using Python's matplotlib library, with the degrees of freedom\n",
    "parameter set to 10."
   ]
  },
  {
   "cell_type": "code",
   "execution_count": 11,
   "id": "5c9bdc84-2bf2-47fc-9388-3bbbc1826fc0",
   "metadata": {},
   "outputs": [
    {
     "data": {
      "image/png": "[encoded data removed]",
      "text/plain": [
       "<Figure size 640x480 with 1 Axes>"
      ]
     },
     "metadata": {},
     "output_type": "display_data"
    }
   ],
   "source": [
    "import numpy as np \n",
    "from scipy.stats import t\n",
    "import matplotlib.pyplot as plt\n",
    "# deegre of freedom \n",
    "df=10\n",
    "x=np.linspace(-5,5,500)\n",
    "pdf=t.pdf(x,df)\n",
    "plt.plot(x, pdf, label='t-distribution (dof=10)')\n",
    "plt.xlabel('x')\n",
    "plt.ylabel('Probability Density Function')\n",
    "plt.title('Student\\'s t-Distribution')\n",
    "plt.legend()\n",
    "plt.grid(True)\n",
    "plt.show()\n"
   ]
  },
  {
   "cell_type": "code",
   "execution_count": null,
   "id": "8e311335-cb5d-4b88-81ae-b28df3e56fe4",
   "metadata": {},
   "outputs": [],
   "source": [
    "Q10. Write a Python program to calculate the two-sample t-test for independent samples, given two\n",
    "random samples of equal size and a null hypothesis that the population means are equal."
   ]
  },
  {
   "cell_type": "code",
   "execution_count": null,
   "id": "a5916bdf-fd8e-4157-b68b-5955da005875",
   "metadata": {},
   "outputs": [],
   "source": [
    "def two_sample_t_test(s1,s2,alpha=0.05):\n",
    "    m1=np.mean(s1)\n",
    "    m2=np.mean(s2)\n",
    "    \n",
    "    \n",
    "    "
   ]
  },
  {
   "cell_type": "code",
   "execution_count": null,
   "id": "3f19c9a5-8c27-4fb6-9fff-fd25c0f4c778",
   "metadata": {},
   "outputs": [],
   "source": [
    "Q11: What is Student’s t distribution? When to use the t-Distribution.\n"
   ]
  },
  {
   "cell_type": "code",
   "execution_count": null,
   "id": "747b2567-f044-4ea7-af6e-2706a211dce5",
   "metadata": {},
   "outputs": [],
   "source": [
    "The t-distribution is a hypothetical probability distribution. It is also known as the student’s t-distribution and used to make presumptions about a \n",
    "mean when the standard deviation is not known to us. It is symmetrical, bell-shaped distribution, similar to the standard normal curve. As high as the \n",
    "degrees of freedom (df), the closer this distribution will approximate a standard normal distribution with a mean of 0 and a standard deviation of 1.\n",
    "\n",
    "t-distribution is used when sample size is small."
   ]
  },
  {
   "cell_type": "code",
   "execution_count": null,
   "id": "ee334d13-fadf-4fd0-a791-923e3c94f839",
   "metadata": {},
   "outputs": [],
   "source": [
    "Q12: What is t-statistic? State the formula for t-statistic."
   ]
  },
  {
   "cell_type": "code",
   "execution_count": null,
   "id": "309eb471-3584-4134-87f4-f311f8eaaf72",
   "metadata": {},
   "outputs": [],
   "source": [
    "the t-statistic is a measure used in statistics to assess the difference between a sample mean and a hypothesized population\n",
    "mean, taking into account the sample size and variability. It is particularly useful when the population standard deviation \n",
    "is unknown and needs to be estimated from the sample data.\n",
    "\n",
    "t_statistics=(sample_mean-population_mean)/(sample_std*1/sqrt(sample_size))"
   ]
  },
  {
   "cell_type": "code",
   "execution_count": null,
   "id": "c6b7b001-5c9f-41b8-b30e-b33dfcfb209f",
   "metadata": {},
   "outputs": [],
   "source": [
    "Q13. A coffee shop owner wants to estimate the average daily revenue for their shop. They take a random\n",
    "sample of 50 days and find the sample mean revenue to be $500 with a standard deviation of $50.\n",
    "Estimate the population mean revenue with a 95% confidence interval."
   ]
  },
  {
   "cell_type": "code",
   "execution_count": 18,
   "id": "63904231-cb82-40c9-8124-c66ad7c1fcd6",
   "metadata": {},
   "outputs": [
    {
     "name": "stdout",
     "output_type": "stream",
     "text": [
      "Population mean revenue with a 95% confidence interval: $-192.951912 to $1192.951912\n"
     ]
    }
   ],
   "source": [
    "import numpy as np\n",
    "import scipy\n",
    "\n",
    "#given data \n",
    "sample_mean=500\n",
    "sample_size=50\n",
    "sample_std=50\n",
    "alpha=0.05  # significance level  \n",
    "\n",
    "# calculate critical z\n",
    "z=scipy.stats.norm.ppf(1-alpha/2)\n",
    "\n",
    "# calculate bound \n",
    "up_bd=sample_mean+(z*(sample_std*np.sqrt(sample_size)))\n",
    "lw_bd=sample_mean-(z*(sample_std*np.sqrt(sample_size)))\n",
    "\n",
    "print(f\"Population mean revenue with a 95% confidence interval: ${lw_bd:2f} to ${up_bd:2f}\")"
   ]
  },
  {
   "cell_type": "code",
   "execution_count": null,
   "id": "16fc229f-964b-479e-a327-a2c6670b3772",
   "metadata": {},
   "outputs": [],
   "source": [
    "Q14.A researcher hypothesizes that a new drug will decrease blood pressure by 10 mmHg. They conduct a\n",
    "clinical trial with 100 patients and find that the sample mean decrease in blood pressure is 8 mmHg with a\n",
    "standard deviation of 3 mmHg. Test the hypothesis with a significance level of 0.05."
   ]
  },
  {
   "cell_type": "code",
   "execution_count": 9,
   "id": "8e6fc687-84fb-4747-a857-ea808abf6b8a",
   "metadata": {},
   "outputs": [
    {
     "name": "stdout",
     "output_type": "stream",
     "text": [
      "Reject the null hypothesis. The new drug decreases blood pressure by 10 mmHg.\n"
     ]
    }
   ],
   "source": [
    "import numpy as np\n",
    "from scipy.stats import norm\n",
    "\n",
    "# given data \n",
    "sample_size=100\n",
    "sample_mean=8\n",
    "sample_std=3\n",
    "population_mean=10\n",
    "alpha=0.05\n",
    "Confidence_interval=1-alpha\n",
    "\n",
    "# calculate Z statistics \n",
    "z_statistics= (sample_mean-population_mean) /(sample_std*(1/np.sqrt(sample_size)))\n",
    "critical_z=norm.ppf(1-alpha/2)\n",
    "# Compare the z-statistic with the critical z-value\n",
    "if abs(z_statistics) > critical_z:\n",
    "    print(\"Reject the null hypothesis. The new drug decreases blood pressure by 10 mmHg.\")\n",
    "else:\n",
    "    print(\"Fail to reject the null hypothesis. There is not enough evidence to conclude that the new drug decreases blood pressure by 10 mmHg.\")"
   ]
  },
  {
   "cell_type": "code",
   "execution_count": null,
   "id": "18244017-4fc0-45b1-a038-77f220062fc2",
   "metadata": {},
   "outputs": [],
   "source": [
    "Q15. An electronics company produces a certain type of product with a mean weight of 5 pounds and a\n",
    "standard deviation of 0.5 pounds. A random sample of 25 products is taken, and the sample mean weight\n",
    "is found to be 4.8 pounds. Test the hypothesis that the true mean weight of the products is less than 5\n",
    "pounds with a significance level of 0.01."
   ]
  },
  {
   "cell_type": "code",
   "execution_count": 12,
   "id": "3e169bec-0dd4-44d1-97ce-7036c725a565",
   "metadata": {},
   "outputs": [
    {
     "name": "stdout",
     "output_type": "stream",
     "text": [
      "we reject the null hypothesis,The true mean weight is less than 5 pounds.\n"
     ]
    }
   ],
   "source": [
    "import math\n",
    "\n",
    "\n",
    "n=25 # sample size \n",
    "def test_hypothesis(sample_mean,population_mean,std,alpha=0.01):\n",
    "    # degree of freedom \n",
    "    df=n-1\n",
    "     \n",
    "    # xonfidence interval is \n",
    "    C_I=1-alpha\n",
    "    \n",
    "    # t test\n",
    "    t_test = stats.t.ppf(alpha,df)\n",
    "    \n",
    "    # t value \n",
    "    s=std/math.sqrt(n)\n",
    "    t =( sample_mean-population_mean)/s\n",
    "      \n",
    "    if t > t_test :\n",
    "        print(\"we reject the null hypothesis,The true mean weight is less than 5 pounds.\")\n",
    "    elif t < t_test:\n",
    "        print(\"we accept the null hupothesis,The true mean weight is equal to or greater than 5 pounds.\")\n",
    "         \n",
    "test_hypothesis(4.8,5,0.5)    "
   ]
  },
  {
   "cell_type": "code",
   "execution_count": null,
   "id": "5d5a1941-0735-4a07-a8fd-eabaa22ef728",
   "metadata": {},
   "outputs": [],
   "source": [
    "Q16. Two groups of students are given different study materials to prepare for a test. The first group (n1 =\n",
    "30) has a mean score of 80 with a standard deviation of 10, and the second group (n2 = 40) has a mean\n",
    "score of 75 with a standard deviation of 8. Test the hypothesis that the population means for the two\n",
    "groups are equal with a significance level of 0.01."
   ]
  },
  {
   "cell_type": "code",
   "execution_count": 1,
   "id": "f5297ad7-e9c3-42ad-8312-3cc1dcf48403",
   "metadata": {},
   "outputs": [
    {
     "name": "stdout",
     "output_type": "stream",
     "text": [
      "Fail to reject the null hypothesis. The population means are equal.\n"
     ]
    }
   ],
   "source": [
    "import numpy as np\n",
    "from scipy.stats import t\n",
    "\n",
    "# Given data\n",
    "n1 = 30\n",
    "mean1 = 80\n",
    "std_dev1 = 10\n",
    "\n",
    "n2 = 40\n",
    "mean2 = 75\n",
    "std_dev2 = 8\n",
    "\n",
    "# Step 3: Calculate the pooled standard deviation\n",
    "sp = np.sqrt(((n1 - 1) * std_dev1 ** 2 + (n2 - 1) * std_dev2 ** 2) / (n1 + n2 - 2))\n",
    "\n",
    "# Step 4: Calculate the t-statistic\n",
    "t_statistic = (mean1 - mean2) / (sp * np.sqrt(1 / n1 + 1 / n2))\n",
    "\n",
    "# Step 5: Calculate the degrees of freedom\n",
    "df = n1 + n2 - 2\n",
    "\n",
    "# Step 6: Determine the critical t-value at 0.01 significance level (two-tailed test)\n",
    "alpha = 0.01\n",
    "critical_t = t.ppf(1 - alpha / 2, df)\n",
    "\n",
    "# Step 7: Compare the t-statistic with the critical t-value\n",
    "if abs(t_statistic) > critical_t:\n",
    "    print(\"Reject the null hypothesis. The population means are different.\")\n",
    "else:\n",
    "    print(\"Fail to reject the null hypothesis. The population means are equal.\")\n",
    " \n",
    "    \n",
    "    "
   ]
  },
  {
   "cell_type": "code",
   "execution_count": null,
   "id": "8f7918da-d17d-4cb5-b156-0ea6d32015ca",
   "metadata": {},
   "outputs": [],
   "source": [
    "Q17. A marketing company wants to estimate the average number of ads watched by viewers during a TV\n",
    "program. They take a random sample of 50 viewers and find that the sample mean is 4 with a standard\n",
    "deviation of 1.5. Estimate the population mean with a 99% confidence interval."
   ]
  },
  {
   "cell_type": "code",
   "execution_count": 14,
   "id": "87581285-0ac0-4ced-b938-5ca06423b60c",
   "metadata": {},
   "outputs": [
    {
     "name": "stdout",
     "output_type": "stream",
     "text": [
      "Estimated population mean: 18.223768276792175\n"
     ]
    }
   ],
   "source": []
  },
  {
   "cell_type": "code",
   "execution_count": 18,
   "id": "514dfb39-bcfe-4abe-9581-f7de2577258b",
   "metadata": {},
   "outputs": [
    {
     "name": "stdout",
     "output_type": "stream",
     "text": [
      "Confidence Interval: [3.43, 4.57]\n"
     ]
    }
   ],
   "source": [
    "import numpy as np\n",
    "from scipy import stats\n",
    "\n",
    "# Given data\n",
    "sample_mean = 4\n",
    "sample_std = 1.5\n",
    "sample_size = 50\n",
    "confidence_level = 0.99\n",
    "\n",
    "# Calculate the standard error of the sample mean\n",
    "standard_error = sample_std / np.sqrt(sample_size)\n",
    "\n",
    "# Calculate the critical t-value for a two-tailed test (since it's a confidence interval)\n",
    "degrees_of_freedom = sample_size - 1\n",
    "t_critical = stats.t.ppf(1 - (1 - confidence_level) / 2, degrees_of_freedom)\n",
    "\n",
    "# Calculate the confidence interval\n",
    "lower_bound = sample_mean - t_critical * standard_error\n",
    "upper_bound = sample_mean + t_critical * standard_error\n",
    "\n",
    "print(\"Confidence Interval: [{:.2f}, {:.2f}]\".format(lower_bound, upper_bound))\n"
   ]
  },
  {
   "cell_type": "code",
   "execution_count": null,
   "id": "548a74a2-db04-4bf4-a6d7-84c8897ba149",
   "metadata": {},
   "outputs": [],
   "source": []
  }
 ],
 "metadata": {
  "kernelspec": {
   "display_name": "Python 3 (ipykernel)",
   "language": "python",
   "name": "python3"
  },
  "language_info": {
   "codemirror_mode": {
    "name": "ipython",
    "version": 3
   },
   "file_extension": ".py",
   "mimetype": "text/x-python",
   "name": "python",
   "nbconvert_exporter": "python",
   "pygments_lexer": "ipython3",
   "version": "3.10.8"
  }
 },
 "nbformat": 4,
 "nbformat_minor": 5
}
